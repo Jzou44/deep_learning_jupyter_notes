{
  "nbformat": 4,
  "nbformat_minor": 0,
  "metadata": {
    "colab": {
      "name": "20210824_nlp_augmentation_back_translation.ipynb",
      "provenance": [],
      "collapsed_sections": []
    },
    "kernelspec": {
      "name": "python3",
      "display_name": "Python 3"
    },
    "language_info": {
      "name": "python"
    },
    "accelerator": "GPU"
  },
  "cells": [
    {
      "cell_type": "code",
      "metadata": {
        "colab": {
          "base_uri": "https://localhost:8080/"
        },
        "id": "70p935MTT9B4",
        "outputId": "e9836969-9a10-42f2-c227-fb7c106e9c6a"
      },
      "source": [
        "!nvidia-smi"
      ],
      "execution_count": 1,
      "outputs": [
        {
          "output_type": "stream",
          "text": [
            "Tue Aug 24 04:05:08 2021       \n",
            "+-----------------------------------------------------------------------------+\n",
            "| NVIDIA-SMI 470.57.02    Driver Version: 460.32.03    CUDA Version: 11.2     |\n",
            "|-------------------------------+----------------------+----------------------+\n",
            "| GPU  Name        Persistence-M| Bus-Id        Disp.A | Volatile Uncorr. ECC |\n",
            "| Fan  Temp  Perf  Pwr:Usage/Cap|         Memory-Usage | GPU-Util  Compute M. |\n",
            "|                               |                      |               MIG M. |\n",
            "|===============================+======================+======================|\n",
            "|   0  Tesla T4            Off  | 00000000:00:04.0 Off |                    0 |\n",
            "| N/A   60C    P8    10W /  70W |      0MiB / 15109MiB |      0%      Default |\n",
            "|                               |                      |                  N/A |\n",
            "+-------------------------------+----------------------+----------------------+\n",
            "                                                                               \n",
            "+-----------------------------------------------------------------------------+\n",
            "| Processes:                                                                  |\n",
            "|  GPU   GI   CI        PID   Type   Process name                  GPU Memory |\n",
            "|        ID   ID                                                   Usage      |\n",
            "|=============================================================================|\n",
            "|  No running processes found                                                 |\n",
            "+-----------------------------------------------------------------------------+\n"
          ],
          "name": "stdout"
        }
      ]
    },
    {
      "cell_type": "code",
      "metadata": {
        "colab": {
          "base_uri": "https://localhost:8080/"
        },
        "id": "VVIUZAbOUmpd",
        "outputId": "1029f1c0-240f-49a9-f9da-a5d4e42bb1a6"
      },
      "source": [
        "!pip install jieba transformers sentencepiece"
      ],
      "execution_count": 5,
      "outputs": [
        {
          "output_type": "stream",
          "text": [
            "Requirement already satisfied: jieba in /usr/local/lib/python3.7/dist-packages (0.42.1)\n",
            "Requirement already satisfied: transformers in /usr/local/lib/python3.7/dist-packages (4.9.2)\n",
            "Requirement already satisfied: sentencepiece in /usr/local/lib/python3.7/dist-packages (0.1.96)\n",
            "Requirement already satisfied: numpy>=1.17 in /usr/local/lib/python3.7/dist-packages (from transformers) (1.19.5)\n",
            "Requirement already satisfied: requests in /usr/local/lib/python3.7/dist-packages (from transformers) (2.23.0)\n",
            "Requirement already satisfied: importlib-metadata in /usr/local/lib/python3.7/dist-packages (from transformers) (4.6.4)\n",
            "Requirement already satisfied: regex!=2019.12.17 in /usr/local/lib/python3.7/dist-packages (from transformers) (2019.12.20)\n",
            "Requirement already satisfied: tokenizers<0.11,>=0.10.1 in /usr/local/lib/python3.7/dist-packages (from transformers) (0.10.3)\n",
            "Requirement already satisfied: tqdm>=4.27 in /usr/local/lib/python3.7/dist-packages (from transformers) (4.62.0)\n",
            "Requirement already satisfied: huggingface-hub==0.0.12 in /usr/local/lib/python3.7/dist-packages (from transformers) (0.0.12)\n",
            "Requirement already satisfied: filelock in /usr/local/lib/python3.7/dist-packages (from transformers) (3.0.12)\n",
            "Requirement already satisfied: sacremoses in /usr/local/lib/python3.7/dist-packages (from transformers) (0.0.45)\n",
            "Requirement already satisfied: pyyaml>=5.1 in /usr/local/lib/python3.7/dist-packages (from transformers) (5.4.1)\n",
            "Requirement already satisfied: packaging in /usr/local/lib/python3.7/dist-packages (from transformers) (21.0)\n",
            "Requirement already satisfied: typing-extensions in /usr/local/lib/python3.7/dist-packages (from huggingface-hub==0.0.12->transformers) (3.7.4.3)\n",
            "Requirement already satisfied: pyparsing>=2.0.2 in /usr/local/lib/python3.7/dist-packages (from packaging->transformers) (2.4.7)\n",
            "Requirement already satisfied: zipp>=0.5 in /usr/local/lib/python3.7/dist-packages (from importlib-metadata->transformers) (3.5.0)\n",
            "Requirement already satisfied: chardet<4,>=3.0.2 in /usr/local/lib/python3.7/dist-packages (from requests->transformers) (3.0.4)\n",
            "Requirement already satisfied: certifi>=2017.4.17 in /usr/local/lib/python3.7/dist-packages (from requests->transformers) (2021.5.30)\n",
            "Requirement already satisfied: idna<3,>=2.5 in /usr/local/lib/python3.7/dist-packages (from requests->transformers) (2.10)\n",
            "Requirement already satisfied: urllib3!=1.25.0,!=1.25.1,<1.26,>=1.21.1 in /usr/local/lib/python3.7/dist-packages (from requests->transformers) (1.24.3)\n",
            "Requirement already satisfied: joblib in /usr/local/lib/python3.7/dist-packages (from sacremoses->transformers) (1.0.1)\n",
            "Requirement already satisfied: click in /usr/local/lib/python3.7/dist-packages (from sacremoses->transformers) (7.1.2)\n",
            "Requirement already satisfied: six in /usr/local/lib/python3.7/dist-packages (from sacremoses->transformers) (1.15.0)\n"
          ],
          "name": "stdout"
        }
      ]
    },
    {
      "cell_type": "code",
      "metadata": {
        "colab": {
          "base_uri": "https://localhost:8080/"
        },
        "id": "_vdSpdeLUuss",
        "outputId": "045acd08-2fe3-48dd-fc9e-58a1de8a9b55"
      },
      "source": [
        "import torch\n",
        "import re\n",
        "import jieba.posseg\n",
        "from transformers import AutoTokenizer, AutoModelForSeq2SeqLM\n",
        "\n",
        "valid_pos = {\"n\", \"vd\", \"vn\", \"nr\", \"ns\", \"nt\", \"nz\", \"j\"}\n",
        "\n",
        "class BackTranslateManager:\n",
        "    def __init__(self, model_path_zh_en, model_path_en_zh):\n",
        "        self.device = torch.device(\"cuda\" if torch.cuda.is_available() else \"cpu\")\n",
        "        self.tokenizer_zh_en = AutoTokenizer.from_pretrained(model_path_zh_en)\n",
        "        self.model_zh_en = AutoModelForSeq2SeqLM.from_pretrained(model_path_zh_en)\n",
        "        self.model_zh_en.to(self.device)\n",
        "        self.model_zh_en.eval()\n",
        "        self.tokenizer_en_zh = AutoTokenizer.from_pretrained(model_path_en_zh)\n",
        "        self.model_en_zh = AutoModelForSeq2SeqLM.from_pretrained(model_path_en_zh)\n",
        "        self.model_en_zh.to(self.device)\n",
        "        self.model_en_zh.eval()\n",
        "\n",
        "    def translate_zh_en(self, sentence_zh: str):\n",
        "        tokenized_text = self.tokenizer_zh_en([sentence_zh], return_tensors='pt')\n",
        "        tokenized_text = {k: v.to(self.device) for k, v in tokenized_text.items()}\n",
        "        translation = self.model_zh_en.generate(**tokenized_text)\n",
        "        translated_text = self.tokenizer_zh_en.batch_decode(translation, skip_special_tokens=True)[0]\n",
        "        return translated_text\n",
        "\n",
        "    def translate_en_zh(self, sentence_en: str):\n",
        "        tokenized_text = self.tokenizer_en_zh([sentence_en], return_tensors='pt')\n",
        "        tokenized_text = {k: v.to(self.device) for k, v in tokenized_text.items()}\n",
        "        translation = self.model_en_zh.generate(**tokenized_text, num_return_sequences=5, temperature=0.9, do_sample=True)\n",
        "        translated_text = self.tokenizer_en_zh.batch_decode(translation, skip_special_tokens=True)\n",
        "        return translated_text\n",
        "\n",
        "    def back_translate(self, sentence_zh: str):\n",
        "        sentence_en = self.translate_zh_en(sentence_zh)\n",
        "        back_translated_zh = self.translate_en_zh(sentence_en)\n",
        "\n",
        "        back_translated_zh = [x for x in set(back_translated_zh) if x !=sentence_zh and len(\"\".join(re.findall(\"[\\u4e00-\\u9fa5]+\", x))) > 5]\n",
        "        ner_result = [[word, flag] for (word, flag) in jieba.posseg.cut(sentence_zh)]\n",
        "\n",
        "        result = []\n",
        "        for x in back_translated_zh:\n",
        "            not_show_keywords = [word for (word, flag) in ner_result if word not in x and flag in valid_pos]\n",
        "            if not_show_keywords:\n",
        "                x += \":\" + \"_\".join(not_show_keywords)\n",
        "            result.append(x)\n",
        "        return result\n",
        "\n",
        "\n",
        "if __name__ == '__main__':\n",
        "    texts = [\n",
        "        \"韩华将向三星SDI西安工厂供应电池套件\",\n",
        "        \"ICinsights：增长19%！三星再次成为全球最大半导体供应商\"\n",
        "    ]\n",
        "\n",
        "    manager = BackTranslateManager(\"Helsinki-NLP/opus-mt-zh-en\", \"Helsinki-NLP/opus-mt-en-zh\")\n",
        "    for sentence_zh in texts:\n",
        "        back_translated_zh = manager.back_translate(sentence_zh)\n",
        "        print(\"----------\")\n",
        "        print(sentence_zh)\n",
        "        print(\"\\n\")\n",
        "        for x in back_translated_zh:\n",
        "          print(x)\n"
      ],
      "execution_count": 8,
      "outputs": [
        {
          "output_type": "stream",
          "text": [
            "----------\n",
            "韩华将向三星SDI西安工厂供应电池套件\n",
            "\n",
            "\n",
            "韩华会为三星SDIXian工厂提供电池包:西安_供应_套件\n",
            "汉华会向三星SDIXian工厂提供电池包:韩华_西安_供应_套件\n",
            "韩华会向三星SDIXian工厂提供电池包:西安_供应_套件\n",
            "----------\n",
            "ICinsights：增长19%！三星再次成为全球最大半导体供应商\n",
            "\n",
            "\n",
            "三星再次成为世界最大的半导体供应商:全球\n",
            "INISights: 19%的增长!三星再次成为世界上最大的半导体供应商。:全球\n",
            "INISights: 增加19%!三星再次成为世界上最大的半导体供应商:全球\n",
            "ININSights: 增加19%!三星再次成为世界上最大的半导体供应商:全球\n"
          ],
          "name": "stdout"
        }
      ]
    }
  ]
}